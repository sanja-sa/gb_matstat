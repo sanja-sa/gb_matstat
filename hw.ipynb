{
 "metadata": {
  "language_info": {
   "codemirror_mode": {
    "name": "ipython",
    "version": 3
   },
   "file_extension": ".py",
   "mimetype": "text/x-python",
   "name": "python",
   "nbconvert_exporter": "python",
   "pygments_lexer": "ipython3",
   "version": "3.8.3"
  },
  "orig_nbformat": 2,
  "kernelspec": {
   "name": "python3",
   "display_name": "Python 3",
   "language": "python"
  }
 },
 "nbformat": 4,
 "nbformat_minor": 2,
 "cells": [
  {
   "cell_type": "code",
   "execution_count": 3,
   "metadata": {},
   "outputs": [],
   "source": [
    "from math import factorial\n",
    "def comb(n, k):\n",
    "    return (factorial(n) / (factorial(k) * factorial(n - k)))\n",
    "def bern(p,q,n,k):\n",
    "    return comb(n,k)*(p**k)*q**(n-k)\n",
    "def puason(p,n,m):\n",
    "    lbd=n*p\n",
    "    return 2.72**-lbd*lbd**m/factorial(m)"
   ]
  },
  {
   "source": [
    "#### 1. Вероятность того, что стрелок попадет в мишень, выстрелив один раз, равна 0.8. Стрелок выстрелил 100 раз. Найдите вероятность того, что стрелок попадет в цель ровно 85 раз."
   ],
   "cell_type": "markdown",
   "metadata": {}
  },
  {
   "cell_type": "code",
   "execution_count": 2,
   "metadata": {},
   "outputs": [
    {
     "output_type": "execute_result",
     "data": {
      "text/plain": [
       "0.048061793700746355"
      ]
     },
     "metadata": {},
     "execution_count": 2
    }
   ],
   "source": [
    "# по Бернулли\n",
    "bern(0.8, 1-0.8, 100,85)"
   ]
  },
  {
   "source": [
    "#### 2. Вероятность того, что лампочка перегорит в течение первого дня эксплуатации, равна 0.0004. В жилом комплексе после ремонта в один день включили 5000 новых лампочек. \n",
    "#### Какова вероятность, что ни одна из них не перегорит в первый день?"
   ],
   "cell_type": "markdown",
   "metadata": {}
  },
  {
   "cell_type": "code",
   "execution_count": 5,
   "metadata": {},
   "outputs": [
    {
     "output_type": "execute_result",
     "data": {
      "text/plain": [
       "0.13516435986159167"
      ]
     },
     "metadata": {},
     "execution_count": 5
    }
   ],
   "source": [
    "puason(0.0004, 5000,0)"
   ]
  },
  {
   "source": [
    "#### Какова вероятность, что перегорят ровно две?"
   ],
   "cell_type": "markdown",
   "metadata": {}
  },
  {
   "cell_type": "code",
   "execution_count": 6,
   "metadata": {},
   "outputs": [
    {
     "output_type": "execute_result",
     "data": {
      "text/plain": [
       "0.27032871972318334"
      ]
     },
     "metadata": {},
     "execution_count": 6
    }
   ],
   "source": [
    "puason(0.0004, 5000,2)"
   ]
  },
  {
   "source": [
    "#### 3. Монету подбросили 144 раза. Какова вероятность, что орел выпадет ровно 70 раз?"
   ],
   "cell_type": "markdown",
   "metadata": {}
  },
  {
   "cell_type": "code",
   "execution_count": 8,
   "metadata": {},
   "outputs": [
    {
     "output_type": "execute_result",
     "data": {
      "text/plain": [
       "0.06281178035144776"
      ]
     },
     "metadata": {},
     "execution_count": 8
    }
   ],
   "source": [
    "bern(0.5,0.5,144,70)"
   ]
  },
  {
   "source": [
    "#### 4. В первом ящике находится 10 мячей, из которых 7 - белые. Во втором ящике - 11 мячей, из которых 9 белых.Из каждого ящика вытаскивают случайным образом по два мяча."
   ],
   "cell_type": "markdown",
   "metadata": {}
  },
  {
   "source": [
    "####  Какова вероятность того, что все мячи белые? "
   ],
   "cell_type": "markdown",
   "metadata": {}
  },
  {
   "cell_type": "code",
   "execution_count": 14,
   "metadata": {},
   "outputs": [
    {
     "output_type": "execute_result",
     "data": {
      "text/plain": [
       "0.4666666666666667"
      ]
     },
     "metadata": {},
     "execution_count": 14
    }
   ],
   "source": [
    "p1=comb(7,2)/comb(10,2)\n",
    "p1\n"
   ]
  },
  {
   "cell_type": "code",
   "execution_count": 15,
   "metadata": {},
   "outputs": [
    {
     "output_type": "execute_result",
     "data": {
      "text/plain": [
       "0.6545454545454545"
      ]
     },
     "metadata": {},
     "execution_count": 15
    }
   ],
   "source": [
    "p2=comb(9,2)/comb(11,2)\n",
    "p2"
   ]
  },
  {
   "cell_type": "code",
   "execution_count": 16,
   "metadata": {},
   "outputs": [
    {
     "output_type": "execute_result",
     "data": {
      "text/plain": [
       "0.3054545454545455"
      ]
     },
     "metadata": {},
     "execution_count": 16
    }
   ],
   "source": [
    "p1*p2"
   ]
  },
  {
   "source": [
    "#### Какова вероятность того, что ровно два мяча белые?"
   ],
   "cell_type": "markdown",
   "metadata": {}
  },
  {
   "source": [
    "#### Какова вероятность того, что хотя бы один мяч белый?"
   ],
   "cell_type": "markdown",
   "metadata": {}
  }
 ]
}