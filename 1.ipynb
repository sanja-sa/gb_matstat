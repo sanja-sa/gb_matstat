{
 "metadata": {
  "language_info": {
   "codemirror_mode": {
    "name": "ipython",
    "version": 3
   },
   "file_extension": ".py",
   "mimetype": "text/x-python",
   "name": "python",
   "nbconvert_exporter": "python",
   "pygments_lexer": "ipython3",
   "version": "3.8.3"
  },
  "orig_nbformat": 2,
  "kernelspec": {
   "name": "python3",
   "display_name": "Python 3",
   "language": "python"
  }
 },
 "nbformat": 4,
 "nbformat_minor": 2,
 "cells": [
  {
   "cell_type": "code",
   "execution_count": 2,
   "metadata": {},
   "outputs": [],
   "source": [
    "from math import factorial\n",
    "def comb(n, k):\n",
    "    return factorial(n)/(factorial(k)*factorial(n-k))"
   ]
  },
  {
   "source": [
    "#### 1. Из колоды в 52 карты извлекаются случайным образом 4 карты.\n",
    "##### a) Найти вероятность того, что все карты – крести. "
   ],
   "cell_type": "markdown",
   "metadata": {}
  },
  {
   "cell_type": "code",
   "execution_count": 5,
   "metadata": {},
   "outputs": [
    {
     "output_type": "stream",
     "name": "stdout",
     "text": [
      "Общее количество комбинаций карт 4 из 52 - 270725.0\nКоличество комбинаций карт 4 из 13 крести - 715.0\nВероятность, что 4 из 52 будут все крести - 0.0026410564225690276\n"
     ]
    }
   ],
   "source": [
    "Call = comb(52,4)\n",
    "print(f'Общее количество комбинаций карт 4 из 52 - {Call}')\n",
    "С_4_13 = comb(13,4)\n",
    "print(f'Количество комбинаций карт 4 из 13 крести - {С_4_13}')\n",
    "print(f'Вероятность, что 4 из 52 будут все крести - {С_4_13/Call}')"
   ]
  },
  {
   "source": [
    "##### б) Найти вероятность того, хоть одна карта туз из этих 4"
   ],
   "cell_type": "markdown",
   "metadata": {}
  },
  {
   "cell_type": "code",
   "execution_count": 12,
   "metadata": {},
   "outputs": [
    {
     "output_type": "stream",
     "name": "stdout",
     "text": [
      "Количество комбинаций карт 4 из 48 не тузы - 194580.0\nКоличество комбинаций карт с одним тузом - 76145.0\nВероятность,что в 4 картах из 52 будет хоть один туз - 0.2812632745405855\n"
     ]
    }
   ],
   "source": [
    "С_4_48 = comb(48,4)\n",
    "print(f'Количество комбинаций карт 4 из 48 не тузы - {С_4_48}')\n",
    "print(f'Количество комбинаций карт с одним тузом - {(Call-С_4_48)}')\n",
    "print(f'Вероятность,что в 4 картах из 52 будет хоть один туз - {(Call-С_4_48)/Call}')\n"
   ]
  },
  {
   "source": [
    "#### 2. На входной двери подъезда установлен кодовый замок, содержащий десять кнопок с цифрами от 0 до 9. Код содержит три цифры, которые нужно нажать одновременно. \n",
    "##### Какова вероятность того, что человек, не знающий код, откроет дверь с первой попытки?"
   ],
   "cell_type": "markdown",
   "metadata": {}
  },
  {
   "cell_type": "code",
   "execution_count": 18,
   "metadata": {},
   "outputs": [
    {
     "output_type": "stream",
     "name": "stdout",
     "text": [
      "Вероятность,что в при одновременном нажатии 3 кнопок с 1 раза откроем дверь - 0.008333333333333333\n"
     ]
    }
   ],
   "source": [
    "# 120 комбинаций всех нажатий и одна только выигрышная\n",
    "print(f'Вероятность,что в при одновременном нажатии 3 кнопок с 1 раза откроем дверь - {1/comb(10,3)}')\n"
   ]
  },
  {
   "source": [
    "#### 3. В ящике имеется 15 деталей, из которых 9 окрашены. Рабочий случайным образом извлекает 3 детали. \n",
    "##### Какова вероятность того, что все извлеченные детали окрашены?"
   ],
   "cell_type": "markdown",
   "metadata": {}
  },
  {
   "cell_type": "code",
   "execution_count": 29,
   "metadata": {},
   "outputs": [
    {
     "output_type": "stream",
     "name": "stdout",
     "text": [
      "Общее количество возможных комбинаций - 455.0\nКоличество комбинаций из 9 вынуть 3 - 84.0\nВероятность - 0.18461538461538463\n"
     ]
    }
   ],
   "source": [
    "C3all = comb(15,3)\n",
    "print(f'Общее количество возможных комбинаций - {C3all}')\n",
    "print(f'Количество комбинаций из 9 окрашенных вынуть 3 - {comb(9,3)}')\n",
    "print(f'Вероятность - {comb(9,3)/C3all}')"
   ]
  },
  {
   "source": [
    "#### 4. В лотерее 100 билетов. Из них 2 выигрышных. \n",
    "##### Какова вероятность того, что 2 приобретенных билета окажутся выигрышными?"
   ],
   "cell_type": "markdown",
   "metadata": {}
  },
  {
   "cell_type": "code",
   "execution_count": 32,
   "metadata": {},
   "outputs": [
    {
     "output_type": "execute_result",
     "data": {
      "text/plain": [
       "0.00040404040404040404"
      ]
     },
     "metadata": {},
     "execution_count": 32
    }
   ],
   "source": [
    "2/comb(100,2)"
   ]
  }
 ]
}